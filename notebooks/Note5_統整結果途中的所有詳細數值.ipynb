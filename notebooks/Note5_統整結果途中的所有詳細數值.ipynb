{
 "cells": [
  {
   "cell_type": "markdown",
   "id": "2597ae94-b5f1-499b-9cb8-2fcb01b12f7f",
   "metadata": {},
   "source": [
    "# Note5_統整結果途中的所有詳細數值"
   ]
  },
  {
   "cell_type": "markdown",
   "id": "1e7ce4f3-f98b-49d9-869a-e1d39f7fc150",
   "metadata": {},
   "source": [
    "## Barchart"
   ]
  },
  {
   "cell_type": "code",
   "execution_count": 6,
   "id": "33668e21-81cb-4ba4-a501-5afe550b2783",
   "metadata": {
    "tags": []
   },
   "outputs": [
    {
     "data": {
      "text/plain": [
       "taxonomy\n",
       "Actinobacteria            283\n",
       "Alphaproteobacteria        75\n",
       "Chloroflexi                91\n",
       "Gammaproteobacteria        88\n",
       "Myxococcia                 15\n",
       "Other Bacterial Phylum      3\n",
       "Thermodesulfobacterota      5\n",
       "Unclassified Bacteria      49\n",
       "Name: NumberOfMAGs, dtype: int64"
      ]
     },
     "metadata": {},
     "output_type": "display_data"
    },
    {
     "data": {
      "text/plain": [
       "ecosystem\n",
       "Aquatic            449\n",
       "Engineered          39\n",
       "Host-associated     37\n",
       "Terrestrial         84\n",
       "Name: NumberOfMAGs, dtype: int64"
      ]
     },
     "metadata": {},
     "output_type": "display_data"
    },
    {
     "data": {
      "text/plain": [
       "ecosystem_category\n",
       "Annelida                            3\n",
       "Bioreactor                          3\n",
       "Built environment                   6\n",
       "Deep subsurface                     6\n",
       "Freshwater                        106\n",
       "Fungi                               7\n",
       "Invertebrates                       1\n",
       "Lab enrichment                      9\n",
       "Lab synthesis                       1\n",
       "Mammals                             2\n",
       "Marine                            292\n",
       "Microbial                           1\n",
       "Modeled                             8\n",
       "Non-marine Saline and Alkaline     14\n",
       "Peat                                1\n",
       "Plants                              7\n",
       "Porifera                           16\n",
       "Sediment                            1\n",
       "Soil                               77\n",
       "Solid waste                         4\n",
       "Thermal springs                    36\n",
       "Wastewater                          8\n",
       "Name: NumberOfMAGs, dtype: int64"
      ]
     },
     "metadata": {},
     "output_type": "display_data"
    }
   ],
   "source": [
    "import os\n",
    "import pandas as pd\n",
    "import re\n",
    "\n",
    "# Read table\n",
    "Barchart_df = pd.read_csv('../data/processed/Final/R/B50_HMMFinal_loose_ForBarChart.csv')\n",
    "\n",
    "# calculate the number of MAGs with group by taxonomy\n",
    "grouped_taxonomy = Barchart_df.groupby('taxonomy')['NumberOfMAGs'].sum()\n",
    "\n",
    "# calculate the number of MAGs with group by ecosysmten_category\n",
    "grouped_ecosystem_category = Barchart_df.groupby('ecosystem_category')['NumberOfMAGs'].sum()\n",
    "\n",
    "# calculate the number of MAGs with group by ecosystem\n",
    "grouped_ecosystem = Barchart_df.groupby('ecosystem')['NumberOfMAGs'].sum()\n",
    "\n",
    "display(grouped_taxonomy)\n",
    "display(grouped_ecosystem)\n",
    "display(grouped_ecosystem_category)\n"
   ]
  },
  {
   "cell_type": "code",
   "execution_count": null,
   "id": "9a5bb604-cbd6-40ce-8ee6-20f17101f69c",
   "metadata": {},
   "outputs": [],
   "source": []
  }
 ],
 "metadata": {
  "kernelspec": {
   "display_name": "Python 3 (ipykernel)",
   "language": "python",
   "name": "python3"
  },
  "language_info": {
   "codemirror_mode": {
    "name": "ipython",
    "version": 3
   },
   "file_extension": ".py",
   "mimetype": "text/x-python",
   "name": "python",
   "nbconvert_exporter": "python",
   "pygments_lexer": "ipython3",
   "version": "3.10.10"
  }
 },
 "nbformat": 4,
 "nbformat_minor": 5
}
